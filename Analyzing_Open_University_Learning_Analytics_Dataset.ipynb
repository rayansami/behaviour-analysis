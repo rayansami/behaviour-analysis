{
 "cells": [
  {
   "cell_type": "code",
   "execution_count": null,
   "metadata": {
    "colab": {
     "base_uri": "https://localhost:8080/",
     "height": 34
    },
    "colab_type": "code",
    "id": "RlBMYIk8ZDeK",
    "outputId": "9155e810-7c13-44e9-ec33-271001dc4540"
   },
   "outputs": [],
   "source": [
    "!ls"
   ]
  },
  {
   "cell_type": "code",
   "execution_count": null,
   "metadata": {
    "colab": {},
    "colab_type": "code",
    "id": "9D0aSfgWYnYS"
   },
   "outputs": [],
   "source": [
    "import numpy as np\n",
    "import pandas as pd\n",
    "import time\n",
    "\n",
    "import matplotlib.pyplot as plt\n",
    "import seaborn as sns\n",
    "%matplotlib inline\n",
    "\n",
    "#bokeh\n",
    "from bokeh.io import output_notebook, show\n",
    "output_notebook()\n",
    "from bokeh.plotting import figure, output_file, show, ColumnDataSource"
   ]
  },
  {
   "cell_type": "code",
   "execution_count": null,
   "metadata": {
    "colab": {},
    "colab_type": "code",
    "id": "aUqM3INOaR2M"
   },
   "outputs": [],
   "source": [
    "student_info = pd.read_csv('Dataset/studentInfo.csv')\n",
    "student_assessment = pd.read_csv('Dataset/studentAssessment.csv')\n",
    "student_registration = pd.read_csv('Dataset/studentRegistration.csv')\n",
    "student_vle = pd.read_csv('Dataset/studentVle.csv')\n",
    "assessments = pd.read_csv('Dataset/assessments.csv')\n",
    "courses = pd.read_csv('Dataset/courses.csv')\n",
    "vle = pd.read_csv('Dataset/vle.csv')"
   ]
  },
  {
   "cell_type": "code",
   "execution_count": null,
   "metadata": {
    "colab": {
     "base_uri": "https://localhost:8080/",
     "height": 153
    },
    "colab_type": "code",
    "id": "0_IhFFj4ahR5",
    "outputId": "ff4f68fe-37ef-4582-e102-bac2170d98e6"
   },
   "outputs": [],
   "source": [
    "print('----- Rows -----')\n",
    "print('Courses     : ',courses.shape[0])\n",
    "print('Assessments : ',assessments.shape[0])\n",
    "print('vle(Virtual Learning Environment) : ',vle.shape[0])\n",
    "print('Student Info         : ',student_info.shape[0])\n",
    "print('student Assessment   : ',student_assessment.shape[0])\n",
    "print('student Registration : ',student_registration.shape[0])\n",
    "print('student Vle          : ',student_vle.shape[0])"
   ]
  },
  {
   "cell_type": "code",
   "execution_count": null,
   "metadata": {
    "colab": {
     "base_uri": "https://localhost:8080/",
     "height": 204
    },
    "colab_type": "code",
    "id": "cWGYiciEfzrt",
    "outputId": "eaec94a7-afa2-4028-ea3a-ed2ede2e035d"
   },
   "outputs": [],
   "source": [
    "student_info.head()"
   ]
  },
  {
   "cell_type": "code",
   "execution_count": null,
   "metadata": {
    "colab": {
     "base_uri": "https://localhost:8080/",
     "height": 204
    },
    "colab_type": "code",
    "id": "x2XdTe4Xf2_A",
    "outputId": "6c53c20c-0e55-48c9-b4a1-a1f48bfb9960"
   },
   "outputs": [],
   "source": [
    "student_assessment.head()"
   ]
  },
  {
   "cell_type": "code",
   "execution_count": null,
   "metadata": {
    "colab": {
     "base_uri": "https://localhost:8080/",
     "height": 204
    },
    "colab_type": "code",
    "id": "IqAQ0dAWf3GB",
    "outputId": "e9e643cc-2add-4c3a-cae6-db564d48f365"
   },
   "outputs": [],
   "source": [
    "student_registration.head()"
   ]
  },
  {
   "cell_type": "code",
   "execution_count": null,
   "metadata": {
    "colab": {
     "base_uri": "https://localhost:8080/",
     "height": 204
    },
    "colab_type": "code",
    "id": "9s012K5zf3N5",
    "outputId": "a44f5f9b-0aa1-4ff5-ff80-a635c0f86ea6"
   },
   "outputs": [],
   "source": [
    "student_vle.head()"
   ]
  },
  {
   "cell_type": "code",
   "execution_count": null,
   "metadata": {
    "colab": {
     "base_uri": "https://localhost:8080/",
     "height": 204
    },
    "colab_type": "code",
    "id": "0oST47o-f3V5",
    "outputId": "d67090d3-69d4-4a69-d8e1-7718664d1a49"
   },
   "outputs": [],
   "source": [
    "assessments.head()"
   ]
  },
  {
   "cell_type": "code",
   "execution_count": null,
   "metadata": {
    "colab": {
     "base_uri": "https://localhost:8080/",
     "height": 204
    },
    "colab_type": "code",
    "id": "Cd4coSoMgbSD",
    "outputId": "0ad13641-d8c5-4b64-b879-d71c914fc0f1"
   },
   "outputs": [],
   "source": [
    "courses.head()"
   ]
  },
  {
   "cell_type": "code",
   "execution_count": null,
   "metadata": {
    "colab": {
     "base_uri": "https://localhost:8080/",
     "height": 204
    },
    "colab_type": "code",
    "id": "aTXlVMVMgbVw",
    "outputId": "e1d775b0-f8c9-4294-edc6-9c8547b6e1f6"
   },
   "outputs": [],
   "source": [
    "vle.head()"
   ]
  }
 ],
 "metadata": {
  "colab": {
   "collapsed_sections": [],
   "name": "Analyzing Open University Learning Analytics Dataset.ipynb",
   "provenance": [],
   "toc_visible": true
  },
  "kernelspec": {
   "display_name": "Python 3",
   "language": "python",
   "name": "python3"
  },
  "language_info": {
   "codemirror_mode": {
    "name": "ipython",
    "version": 3
   },
   "file_extension": ".py",
   "mimetype": "text/x-python",
   "name": "python",
   "nbconvert_exporter": "python",
   "pygments_lexer": "ipython3",
   "version": "3.7.4"
  }
 },
 "nbformat": 4,
 "nbformat_minor": 1
}
